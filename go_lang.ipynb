{
 "cells": [
  {
   "cell_type": "markdown",
   "id": "18c116b3",
   "metadata": {},
   "source": [
    "# What is this?\n",
    "\n",
    "A Jupyter notebook for me learning GO on the job!"
   ]
  },
  {
   "cell_type": "markdown",
   "id": "f6d5a004",
   "metadata": {},
   "source": [
    "### Install a Go Jupyter Kernel\n",
    "\n",
    "```\n",
    "  go install github.com/gopherdata/gophernotes@v0.7.5\n",
    "  mkdir -p ~/.local/share/jupyter/kernels/gophernotes\n",
    "  cd ~/.local/share/jupyter/kernels/gophernotes\n",
    "  cp \"$(go env GOPATH)\"/pkg/mod/github.com/gopherdata/gophernotes@v0.7.5/kernel/*  \".\"\n",
    "  chmod +w ./kernel.json # in case copied kernel.json has no write permission\n",
    "  sed \"s|gophernotes|$(go env GOPATH)/bin/gophernotes|\" < kernel.json.in > kernel.json\n",
    "```"
   ]
  },
  {
   "cell_type": "code",
   "execution_count": 6,
   "id": "b860b51e",
   "metadata": {},
   "outputs": [],
   "source": [
    "package main\n",
    "\n",
    "import \"fmt\"\n",
    "\n",
    "func main() {\n",
    "\tfmt.Println(\"Hello, World!\")\n",
    "}"
   ]
  },
  {
   "cell_type": "markdown",
   "id": "636c4e7d",
   "metadata": {
    "vscode": {
     "languageId": "plaintext"
    }
   },
   "source": [
    "Exposed functions from a library are accessible with capital letter. Example: math.Pi"
   ]
  },
  {
   "cell_type": "markdown",
   "id": "cd026982",
   "metadata": {},
   "source": [
    "Argument types are written in function definitions. They can be written concisely just like in es6 js for declaring multiple constants.\n",
    "\n",
    "```\n",
    "const name = jack,\n",
    "      age = 29,\n",
    "      weight = 60\n",
    "```\n",
    "\n",
    "So in Go you would write it as:\n",
    "\n",
    "`age, weight int`"
   ]
  },
  {
   "cell_type": "markdown",
   "id": "430f902a",
   "metadata": {},
   "source": [
    "A function can return any number of results, you can also destructure them when you take those results."
   ]
  },
  {
   "cell_type": "code",
   "execution_count": 17,
   "id": "6b45a875",
   "metadata": {},
   "outputs": [
    {
     "name": "stdout",
     "output_type": "stream",
     "text": [
      "6 9"
     ]
    },
    {
     "data": {
      "text/plain": [
       "3 <nil>"
      ]
     },
     "execution_count": 17,
     "metadata": {},
     "output_type": "execute_result"
    }
   ],
   "source": [
    "import \"math/rand\"\n",
    "\n",
    "fmt.Printf(\"%v %v\", rand.Intn(10), rand.Intn(20))"
   ]
  },
  {
   "cell_type": "code",
   "execution_count": 26,
   "id": "94aa31f3",
   "metadata": {},
   "outputs": [
    {
     "name": "stdout",
     "output_type": "stream",
     "text": [
      "The sum of 3 and 5 is: 8\n",
      "Here are two lucky numbers: 8, 6"
     ]
    },
    {
     "data": {
      "text/plain": [
       "32 <nil>"
      ]
     },
     "execution_count": 26,
     "metadata": {},
     "output_type": "execute_result"
    }
   ],
   "source": [
    "func add(a int, b int) int {\n",
    "\treturn a + b\n",
    "}\n",
    "fmt.Println(\"The sum of 3 and 5 is:\", add(3, 5))\n",
    "\n",
    "func getLuckyNumber(x int, y int) (int, int) {\n",
    "\treturn rand.Intn(10), rand.Intn(20)\n",
    "}\n",
    "lucky1, lucky2 := getLuckyNumber(10, 20)\n",
    "fmt.Printf(\"Here are two lucky numbers: %v, %v\", lucky1, lucky2)"
   ]
  },
  {
   "cell_type": "code",
   "execution_count": 54,
   "id": "022bb657",
   "metadata": {},
   "outputs": [
    {
     "name": "stdout",
     "output_type": "stream",
     "text": [
      "Here are two lucky numbers: 8 11\n"
     ]
    },
    {
     "data": {
      "text/plain": [
       "33 <nil>"
      ]
     },
     "execution_count": 54,
     "metadata": {},
     "output_type": "execute_result"
    }
   ],
   "source": [
    "// A return statement without arguments returns the named return values. \n",
    "// This is known as a \"naked\" return.\n",
    "\n",
    "func getLuckyNumber() (lucky1, lucky2 int) {\n",
    "\tlucky1 = rand.Intn(10)\n",
    "\tlucky2 = rand.Intn(20)\n",
    "\treturn\n",
    "}\n",
    "lucky1, lucky2 := getLuckyNumber()\n",
    "fmt.Println(\"Here are two lucky numbers:\", lucky1, lucky2)\n"
   ]
  },
  {
   "cell_type": "code",
   "execution_count": 58,
   "id": "117b7e33",
   "metadata": {},
   "outputs": [],
   "source": [
    "// you can declare vars at function level or at package level\n",
    "var name, age, city string\n",
    "var c, python, java bool\n",
    "func main() {\n",
    "\tvar salutation string\n",
    "\tfmt.Println(salutation, name, age, city)\n",
    "\n",
    "\tvar i int\n",
    "\tfmt.Println(i, c, python, java)\n",
    "}"
   ]
  }
 ],
 "metadata": {
  "kernelspec": {
   "display_name": "Go",
   "language": "go",
   "name": "gophernotes"
  },
  "language_info": {
   "codemirror_mode": "",
   "file_extension": ".go",
   "mimetype": "",
   "name": "go",
   "nbconvert_exporter": "",
   "pygments_lexer": "",
   "version": "go1.24.1"
  }
 },
 "nbformat": 4,
 "nbformat_minor": 5
}
