{
 "cells": [
  {
   "cell_type": "markdown",
   "id": "18c116b3",
   "metadata": {},
   "source": [
    "# What is this?\n",
    "\n",
    "A Jupyter notebook for me learning GO on the job!"
   ]
  },
  {
   "cell_type": "markdown",
   "id": "f6d5a004",
   "metadata": {},
   "source": [
    "### Install a Go Jupyter Kernel\n",
    "\n",
    "```\n",
    "  go install github.com/gopherdata/gophernotes@v0.7.5\n",
    "  mkdir -p ~/.local/share/jupyter/kernels/gophernotes\n",
    "  cd ~/.local/share/jupyter/kernels/gophernotes\n",
    "  cp \"$(go env GOPATH)\"/pkg/mod/github.com/gopherdata/gophernotes@v0.7.5/kernel/*  \".\"\n",
    "  chmod +w ./kernel.json # in case copied kernel.json has no write permission\n",
    "  sed \"s|gophernotes|$(go env GOPATH)/bin/gophernotes|\" < kernel.json.in > kernel.json\n",
    "```"
   ]
  },
  {
   "cell_type": "markdown",
   "id": "7ecc8260",
   "metadata": {},
   "source": [
    "## Packages, variables and functions"
   ]
  },
  {
   "cell_type": "code",
   "execution_count": 16,
   "id": "b860b51e",
   "metadata": {},
   "outputs": [
    {
     "name": "stdout",
     "output_type": "stream",
     "text": [
      "Hello, World!\n"
     ]
    },
    {
     "data": {
      "text/plain": [
       "14 <nil>"
      ]
     },
     "execution_count": 16,
     "metadata": {},
     "output_type": "execute_result"
    }
   ],
   "source": [
    "package main\n",
    "\n",
    "import \"fmt\"\n",
    "import \"math\"\n",
    "\n",
    "fmt.Println(\"Hello, World!\")"
   ]
  },
  {
   "cell_type": "markdown",
   "id": "636c4e7d",
   "metadata": {
    "vscode": {
     "languageId": "plaintext"
    }
   },
   "source": [
    "Exposed functions from a library are accessible with capital letter. Example: math.Pi"
   ]
  },
  {
   "cell_type": "markdown",
   "id": "cd026982",
   "metadata": {},
   "source": [
    "Argument types are written in function definitions. They can be written concisely just like in es6 js for declaring multiple constants.\n",
    "\n",
    "```\n",
    "const name = jack,\n",
    "      age = 29,\n",
    "      weight = 60\n",
    "```\n",
    "\n",
    "So in Go you would write it as:\n",
    "\n",
    "`age, weight int`"
   ]
  },
  {
   "cell_type": "markdown",
   "id": "430f902a",
   "metadata": {},
   "source": [
    "A function can return any number of results, you can also destructure them when you take those results."
   ]
  },
  {
   "cell_type": "code",
   "execution_count": 17,
   "id": "6b45a875",
   "metadata": {},
   "outputs": [
    {
     "name": "stdout",
     "output_type": "stream",
     "text": [
      "4 10"
     ]
    },
    {
     "data": {
      "text/plain": [
       "4 <nil>"
      ]
     },
     "execution_count": 17,
     "metadata": {},
     "output_type": "execute_result"
    }
   ],
   "source": [
    "import \"math/rand\"\n",
    "\n",
    "fmt.Printf(\"%v %v\", rand.Intn(10), rand.Intn(20))"
   ]
  },
  {
   "cell_type": "code",
   "execution_count": 18,
   "id": "94aa31f3",
   "metadata": {},
   "outputs": [
    {
     "name": "stdout",
     "output_type": "stream",
     "text": [
      "The sum of 3 and 5 is: 8\n",
      "Here are two lucky numbers: 6, 17"
     ]
    },
    {
     "data": {
      "text/plain": [
       "33 <nil>"
      ]
     },
     "execution_count": 18,
     "metadata": {},
     "output_type": "execute_result"
    }
   ],
   "source": [
    "func add(a int, b int) int {\n",
    "\treturn a + b\n",
    "}\n",
    "fmt.Println(\"The sum of 3 and 5 is:\", add(3, 5))\n",
    "\n",
    "func getLuckyNumber(x int, y int) (int, int) {\n",
    "\treturn rand.Intn(10), rand.Intn(20)\n",
    "}\n",
    "lucky1, lucky2 := getLuckyNumber(10, 20)\n",
    "fmt.Printf(\"Here are two lucky numbers: %v, %v\", lucky1, lucky2)"
   ]
  },
  {
   "cell_type": "code",
   "execution_count": 19,
   "id": "022bb657",
   "metadata": {},
   "outputs": [
    {
     "name": "stdout",
     "output_type": "stream",
     "text": [
      "Here are two lucky numbers: 5 14\n"
     ]
    },
    {
     "data": {
      "text/plain": [
       "33 <nil>"
      ]
     },
     "execution_count": 19,
     "metadata": {},
     "output_type": "execute_result"
    }
   ],
   "source": [
    "// A return statement without arguments returns the named return values. \n",
    "// This is known as a \"naked\" return.\n",
    "\n",
    "func getLuckyNumber() (lucky1, lucky2 int) {\n",
    "\tlucky1 = rand.Intn(10)\n",
    "\tlucky2 = rand.Intn(20)\n",
    "\treturn\n",
    "}\n",
    "lucky1, lucky2 := getLuckyNumber()\n",
    "fmt.Println(\"Here are two lucky numbers:\", lucky1, lucky2)\n"
   ]
  },
  {
   "cell_type": "code",
   "execution_count": 20,
   "id": "117b7e33",
   "metadata": {},
   "outputs": [],
   "source": [
    "// you can declare vars at function level or at package level\n",
    "var name, age, city string\n",
    "var c, python, java bool\n",
    "func main() {\n",
    "\tvar salutation string\n",
    "\tfmt.Println(salutation, name, age, city)\n",
    "\n",
    "\tvar i int\n",
    "\tfmt.Println(i, c, python, java)\n",
    "}"
   ]
  },
  {
   "cell_type": "code",
   "execution_count": 21,
   "id": "461455d3",
   "metadata": {},
   "outputs": [
    {
     "name": "stdout",
     "output_type": "stream",
     "text": [
      "apple carrot water\n"
     ]
    },
    {
     "data": {
      "text/plain": [
       "19 <nil>"
      ]
     },
     "execution_count": 21,
     "metadata": {},
     "output_type": "execute_result"
    }
   ],
   "source": [
    "// You can declare multiple vars in a concise way just like in es6 js. \n",
    "var fruit, vegetable, drink string = \"apple\", \"carrot\", \"water\"\n",
    "\n",
    "fmt.Println(fruit, vegetable, drink)"
   ]
  },
  {
   "cell_type": "code",
   "execution_count": 22,
   "id": "2ee40556",
   "metadata": {},
   "outputs": [
    {
     "name": "stdout",
     "output_type": "stream",
     "text": [
      "thermae novae thermae romae novae japan\n"
     ]
    }
   ],
   "source": [
    "// You can also initialise multiple variables with the shorthang notation of \":=\". \n",
    "// Only works inside functions, not at package level.\n",
    "\n",
    "func about_me() {\n",
    "\tvar favourite_manga, favourite_anime string = \"thermae novae\", \"thermae romae novae\" \n",
    "\t\tfavourite_place := \"japan\"\n",
    "\tfmt.Println(favourite_manga, favourite_anime, favourite_place)\n",
    "}\n",
    "\n",
    "about_me()"
   ]
  },
  {
   "cell_type": "code",
   "execution_count": 23,
   "id": "7863b278",
   "metadata": {},
   "outputs": [
    {
     "name": "stdout",
     "output_type": "stream",
     "text": [
      "Type: bool Value: false\n",
      "Type: uint64 Value: 18446744073709551615\n",
      "Type: complex128 Value: (2+3i)\n"
     ]
    }
   ],
   "source": [
    "// 🥱🥱🥱\n",
    "package main\n",
    "\n",
    "import (\n",
    "\t\"fmt\"\n",
    "\t\"math/cmplx\"\n",
    ")\n",
    "\n",
    "var (\n",
    "\tToBe   bool       = false\n",
    "\tMaxInt uint64     = 1<<64 - 1\n",
    "\tz      complex128 = cmplx.Sqrt(-5 + 12i)\n",
    ")\n",
    "\n",
    "func main() {\n",
    "\tfmt.Printf(\"Type: %T Value: %v\\n\", ToBe, ToBe)\n",
    "\tfmt.Printf(\"Type: %T Value: %v\\n\", MaxInt, MaxInt)\n",
    "\tfmt.Printf(\"Type: %T Value: %v\\n\", z, z)\n",
    "}\n",
    "\n",
    "main()"
   ]
  },
  {
   "cell_type": "code",
   "execution_count": 24,
   "id": "e4dbc0cd",
   "metadata": {},
   "outputs": [
    {
     "name": "stdout",
     "output_type": "stream",
     "text": [
      "0 0 false \"\"\n"
     ]
    }
   ],
   "source": [
    "// Variables declared without an explicit initial value will be given Zero as their value. \n",
    "// false for boolean type and \"\" for string type\n",
    "// 😴😴😴\n",
    "package main\n",
    "\n",
    "import \"fmt\"\n",
    "\n",
    "func main() {\n",
    "\tvar i int\n",
    "\tvar f float64\n",
    "\tvar b bool\n",
    "\tvar s string\n",
    "\tfmt.Printf(\"%v %v %v %q\\n\", i, f, b, s)\n",
    "}\n",
    "\n",
    "main()\n"
   ]
  },
  {
   "cell_type": "code",
   "execution_count": 25,
   "id": "ca8a6bdb",
   "metadata": {},
   "outputs": [
    {
     "name": "stdout",
     "output_type": "stream",
     "text": [
      "42 42 42\n",
      "*\n"
     ]
    },
    {
     "data": {
      "text/plain": [
       "2 <nil>"
      ]
     },
     "execution_count": 25,
     "metadata": {},
     "output_type": "execute_result"
    }
   ],
   "source": [
    "// Let's talk about type casting! \n",
    "// The expression T(v) converts the value v to the type T.\n",
    "// Thing to remember is that unlike in C, in Go assignment between items of different type \n",
    "// requires an explicit conversion. \n",
    "var i int = 42\n",
    "var f float64 = float64(i)\n",
    "var u uint = uint(f)\n",
    "\n",
    "fmt.Println(i, f, u)\n",
    "\n",
    "var g string = string(i) \n",
    "fmt.Println(g) // will result in g being shown as \"42\" in string format\n",
    "// var h bool = bool(f) // will result in \"repl.go:12:19: cannot convert float64 to bool: f\""
   ]
  },
  {
   "cell_type": "code",
   "execution_count": 26,
   "id": "dca59ad6",
   "metadata": {},
   "outputs": [
    {
     "name": "stdout",
     "output_type": "stream",
     "text": [
      "30 is of type int\n",
      "color is of type uint32, value: 0x0\n",
      "red is of type int, value: 0xff0000\n"
     ]
    },
    {
     "data": {
      "text/plain": [
       "36 <nil>"
      ]
     },
     "execution_count": 26,
     "metadata": {},
     "output_type": "execute_result"
    }
   ],
   "source": [
    "// If you declare a variable without specifying its type,\n",
    "// then Go will infer the type based on the value you assign to it.\n",
    "\n",
    "var age = 30\n",
    "fmt.Printf(\"%d is of type %T\\n\", age, age) // age is inferred to be of type int\n",
    "\n",
    "var black uint32 = 0x000000 // hex for black\n",
    "var red int = 0xFF0000      // hex for red\n",
    "\n",
    "fmt.Printf(\"color is of type %T, value: %#x\\n\", black, black)\n",
    "fmt.Printf(\"red is of type %T, value: %#x\\n\", red, red)"
   ]
  },
  {
   "cell_type": "code",
   "execution_count": 27,
   "id": "42a88722",
   "metadata": {},
   "outputs": [
    {
     "name": "stdout",
     "output_type": "stream",
     "text": [
      "Pi: 3.14\n",
      "Truth: true\n",
      "Hello, World! Howdy Ya'll!\n"
     ]
    }
   ],
   "source": [
    "// constants are declared using the `const` keyword, same as in es6 js.\n",
    "// constants cannot be declared using the `:=` syntax.\n",
    "const Pi = 3.14\n",
    "const Truth = true\n",
    "\n",
    "fmt.Println(\"Pi:\", Pi)\n",
    "fmt.Println(\"Truth:\", Truth)\n",
    "\n",
    "func greetings() {\n",
    "\tGreeting1 := \"Hello, World!\"\n",
    "\tGreeting2 := \"Howdy Ya'll!\"\n",
    "\tfmt.Println(Greeting1, Greeting2)\n",
    "}\n",
    "greetings()"
   ]
  },
  {
   "cell_type": "code",
   "execution_count": 28,
   "id": "0a91ed68",
   "metadata": {},
   "outputs": [
    {
     "ename": "ERROR",
     "evalue": "untyped constant {int 1267650600228229401496703205376} overflows <int>",
     "output_type": "error",
     "traceback": [
      "untyped constant {int 1267650600228229401496703205376} overflows <int>"
     ]
    }
   ],
   "source": [
    "// Numbers and precsion are a big deal in Go. \n",
    "// An untyped constant takes the type needed\n",
    "// by the context in which it is used.\n",
    "\n",
    "const (\n",
    "\t// Create a huge number by shifting a 1 bit left 100 places.\n",
    "\t// In other words, the binary number that is 1 followed by 100 zeroes.\n",
    "\tBig = 1 << 100\n",
    "\t// Shift it right again 99 places, so we end up with 1<<1, or 2.\n",
    "\tSmall = Big >> 99\n",
    ")\n",
    "\n",
    "func needInt(x int) int { return x*10 + 1 }\n",
    "func needFloat(x float64) float64 {\n",
    "\treturn x * 0.1\n",
    "}\n",
    "\n",
    "fmt.Println(needInt(Small))\n",
    "fmt.Println(needFloat(Small))\n",
    "fmt.Println(needFloat(Big))\n",
    "fmt.Println(needInt(Big)) "
   ]
  },
  {
   "cell_type": "markdown",
   "id": "86d596a0",
   "metadata": {},
   "source": [
    "## Let's add some Faker power"
   ]
  },
  {
   "cell_type": "code",
   "execution_count": null,
   "id": "f7ca7d67",
   "metadata": {},
   "outputs": [
    {
     "name": "stdout",
     "output_type": "stream",
     "text": [
      "Package installed successfully\n"
     ]
    }
   ],
   "source": [
    "// Add this in a code cell to install the package\n",
    "import \"os/exec\"\n",
    "import \"fmt\"\n",
    "\n",
    "cmd := exec.Command(\"go\", \"get\", \"github.com/go-faker/faker/v4\")\n",
    "err := cmd.Run()\n",
    "if err != nil {\n",
    "    fmt.Println(\"Error installing package:\", err)\n",
    "} else {\n",
    "    fmt.Println(\"Package installed successfully\")\n",
    "}"
   ]
  },
  {
   "cell_type": "code",
   "execution_count": null,
   "id": "ee6d0207",
   "metadata": {},
   "outputs": [
    {
     "ename": "ERROR",
     "evalue": "repl.go:11:8: undefined \"faker\" in faker.FakeData <*ast.SelectorExpr>",
     "output_type": "error",
     "traceback": [
      "repl.go:11:8: undefined \"faker\" in faker.FakeData <*ast.SelectorExpr>"
     ]
    }
   ],
   "source": [
    "import \"github.com/go-faker/faker/v4\"\n",
    "import \"fmt\"\n",
    "\n",
    "type Person struct {\n",
    "    Name     string `faker:\"name\"`\n",
    "    Email    string `faker:\"email\"`\n",
    "    Username string `faker:\"username\"`\n",
    "}\n",
    "\n",
    "var person Person\n",
    "err := faker.FakeData(&person)\n",
    "if err != nil {\n",
    "    fmt.Println(err)\n",
    "}\n",
    "\n",
    "fmt.Printf(\"Name: %s\\n\", person.Name)\n",
    "fmt.Printf(\"Email: %s\\n\", person.Email)\n",
    "fmt.Printf(\"Username: %s\\n\", person.Username)"
   ]
  },
  {
   "cell_type": "markdown",
   "id": "7fa73b6e",
   "metadata": {},
   "source": [
    "## Flow control statements: for, if, else, switch and defer\n",
    "\n",
    "thank goodness, go has only one looping construct! (remember C's looping options? ugh!). The basic for loop has 3 components separated by semicolons:\n",
    "\n",
    "the init statement executed before the first iteration\n",
    "the condition expression eval before every iteration (same as for loop in C )\n",
    "the post statement executed at the end of every iteration. \n",
    "\n",
    "Just that no parens around these statements"
   ]
  },
  {
   "cell_type": "code",
   "execution_count": null,
   "id": "52b6ba13",
   "metadata": {},
   "outputs": [
    {
     "ename": "ERROR",
     "evalue": "repl.go:1:16: not a type: math.Rand <*ast.SelectorExpr>",
     "output_type": "error",
     "traceback": [
      "repl.go:1:16: not a type: math.Rand <*ast.SelectorExpr>"
     ]
    }
   ],
   "source": [
    "for i :=0; i < math.Rand(); i++ {\n",
    "\tfmt.Println(\"Iterating\", i)\n",
    "}"
   ]
  },
  {
   "cell_type": "code",
   "execution_count": null,
   "id": "df67b7bf",
   "metadata": {},
   "outputs": [
    {
     "name": "stdout",
     "output_type": "stream",
     "text": [
      "1024\n"
     ]
    },
    {
     "data": {
      "text/plain": [
       "5 <nil>"
      ]
     },
     "execution_count": 15,
     "metadata": {},
     "output_type": "execute_result"
    }
   ],
   "source": [
    "sum := 1\n",
    "\tfor ; sum < 1000; {\n",
    "\t\tsum += sum\n",
    "\t}\n",
    "\tfmt.Println(sum)"
   ]
  },
  {
   "cell_type": "code",
   "execution_count": null,
   "id": "dc951c52",
   "metadata": {},
   "outputs": [],
   "source": [
    "func main() {\n",
    "\tfor {\n",
    "\t}\n",
    "}\n",
    "// hmm? go you are supposed to say this is an infinite loop!"
   ]
  },
  {
   "cell_type": "code",
   "execution_count": 30,
   "id": "63c0209c",
   "metadata": {},
   "outputs": [
    {
     "name": "stdout",
     "output_type": "stream",
     "text": [
      "This is true\n"
     ]
    }
   ],
   "source": [
    "// same for if statements, no parentheses needed\n",
    "if (true) {\n",
    "\tfmt.Println(\"This is true\")\n",
    "} else {\n",
    "\tfmt.Println(\"This is false\")\n",
    "}"
   ]
  },
  {
   "cell_type": "code",
   "execution_count": 32,
   "id": "fab70090",
   "metadata": {},
   "outputs": [
    {
     "ename": "ERROR",
     "evalue": "repl.go:3:5: not a type: math.Rand <*ast.SelectorExpr>",
     "output_type": "error",
     "traceback": [
      "repl.go:3:5: not a type: math.Rand <*ast.SelectorExpr>"
     ]
    }
   ],
   "source": [
    "// Variables declared by the statement are only in scope \n",
    "// until the end of the if.\n",
    "if (math.Rand() > 1) {\n",
    "\tfmt.PrintLn(\"Yep, we got a random number greater than 1\")\n",
    "} else {\n",
    "\tfmt.PrintLn(\"Nope, we got a random number less than or equal to 1\")\n",
    "}"
   ]
  },
  {
   "cell_type": "code",
   "execution_count": 48,
   "id": "2b4553ca",
   "metadata": {},
   "outputs": [
    {
     "name": "stdout",
     "output_type": "stream",
     "text": [
      "x is greater than 5\n"
     ]
    }
   ],
   "source": [
    "// Let's check for scope of variables in if statements\n",
    "\n",
    "import \"math/rand\"\n",
    "var x int = rand.Intn(100)\n",
    "func checkScope() {\n",
    "\tif x > 5 {\n",
    "\t\tfmt.Println(\"x is greater than 5\")\n",
    "\t\ty := x * 2\n",
    "\t} else {\n",
    "\t\tfmt.Println(\"x is less than or equal 5\")\n",
    "\t}\n",
    "\t// return y // Uncomment to see the error\n",
    "}\n",
    "\n",
    "checkScope() "
   ]
  },
  {
   "cell_type": "markdown",
   "id": "1f628611",
   "metadata": {},
   "source": [
    "Variables declared inside the if statement are available in else block but not outside the if-else block."
   ]
  },
  {
   "cell_type": "code",
   "execution_count": 56,
   "id": "153af19d",
   "metadata": {},
   "outputs": [
    {
     "ename": "ERROR",
     "evalue": "Converter.Type(): unsupported types.Type: *types.TypeParam",
     "output_type": "error",
     "traceback": [
      "Converter.Type(): unsupported types.Type: *types.TypeParam"
     ]
    }
   ],
   "source": [
    "// ...existing code...\n",
    "\n",
    "import \"runtime\"\n",
    "// Fix 1: Use fmt.Println (not PrintLn)\n",
    "// Fix 2: GOPATH is deprecated, use GOROOT instead\n",
    "fmt.Println(runtime.GOROOT())\n",
    "\n",
    "// Or if you want environment info:\n",
    "fmt.Println(\"GOOS:\", runtime.GOOS)\n",
    "fmt.Println(\"GOARCH:\", runtime.GOARCH)\n",
    "fmt.Println(\"NumCPU:\", runtime.NumCPU())\n",
    "\n",
    "// You are going to see a \"Converter.Type(): unsupported types.Type: *types.TypeParam\" error because\n",
    "// Jupyter Go kernel does not support introspection in notebook environment just yet. "
   ]
  },
  {
   "cell_type": "code",
   "execution_count": null,
   "id": "d9460733",
   "metadata": {},
   "outputs": [
    {
     "ename": "ERROR",
     "evalue": "repl.go:15:3: expected 'case' or 'default', found 'EOF'",
     "output_type": "error",
     "traceback": [
      "repl.go:15:3: expected 'case' or 'default', found 'EOF'"
     ]
    }
   ],
   "source": [
    "switch os := runtime.GOOS; os {\n",
    "//     ↑                   ↑\n",
    "//     │                   └── Expression to switch on\n",
    "//     └── Variable declaration\n",
    "\n",
    "switch os := runtime.GOOS; os {\n",
    "\tcase \"darwin\":\n",
    "\t\tfmt.Println(\"macOS.\")\n",
    "\tcase \"linux\":\n",
    "\t\tfmt.Println(\"Linux.\")\n",
    "\tdefault:\n",
    "\t\t// freebsd, openbsd,\n",
    "\t\t// plan9, windows...\n",
    "\t\tfmt.Printf(\"%s.\\n\", os)\n",
    "\t}"
   ]
  },
  {
   "cell_type": "code",
   "execution_count": 59,
   "id": "e4c2abc9",
   "metadata": {},
   "outputs": [
    {
     "name": "stdout",
     "output_type": "stream",
     "text": [
      "When's Saturday?\n",
      "Tomorrow.\n",
      "What type of day is it?\n",
      "It's a weekday.\n"
     ]
    }
   ],
   "source": [
    "import (\n",
    "\t\"fmt\"\n",
    "\t\"time\"\n",
    ")\n",
    "\n",
    "fmt.Println(\"When's Saturday?\")\n",
    "\ttoday := time.Now().Weekday()\n",
    "\tswitch time.Saturday {\n",
    "\tcase today + 0:\n",
    "\t\tfmt.Println(\"Today.\")\n",
    "\tcase today + 1:\n",
    "\t\tfmt.Println(\"Tomorrow.\")\n",
    "\tcase today + 2:\n",
    "\t\tfmt.Println(\"In two days.\")\n",
    "\tdefault:\n",
    "\t\tfmt.Println(\"Too far away.\")\n",
    "\t}\n",
    "\n",
    "\tfmt.Println(\"What type of day is it?\")\n",
    "\tswitch time.Now().Weekday() {\n",
    "\tcase time.Saturday, time.Sunday:\n",
    "\t\tfmt.Println(\"It's the weekend!\")\n",
    "\tdefault:\n",
    "\t\tfmt.Println(\"It's a weekday.\")\n",
    "\t}"
   ]
  },
  {
   "cell_type": "markdown",
   "id": "11897f9e",
   "metadata": {},
   "source": [
    "Questions to think about...\n",
    "\n",
    "* Is lazy evaluation in Go lang same as lazy evaluation in Clojure?  \n",
    "* In Clojure we use ! in a function name to indicate that this fn will cause side effects, is there similar practise in Go?\n"
   ]
  }
 ],
 "metadata": {
  "kernelspec": {
   "display_name": "Go",
   "language": "go",
   "name": "gophernotes"
  },
  "language_info": {
   "codemirror_mode": "",
   "file_extension": ".go",
   "mimetype": "",
   "name": "go",
   "nbconvert_exporter": "",
   "pygments_lexer": "",
   "version": "go1.24.1"
  }
 },
 "nbformat": 4,
 "nbformat_minor": 5
}
